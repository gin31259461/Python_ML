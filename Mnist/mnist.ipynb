{
 "cells": [
  {
   "cell_type": "markdown",
   "metadata": {},
   "source": [
    "## Fetch and normalize data\n"
   ]
  },
  {
   "cell_type": "code",
   "execution_count": 1,
   "metadata": {},
   "outputs": [],
   "source": [
    "import numpy as np\n",
    "import pandas as pd\n",
    "import joblib\n",
    "from typing import Type\n",
    "from sklearn.datasets import fetch_openml\n",
    "from sklearn.model_selection import train_test_split\n",
    "from sklearn.preprocessing import MinMaxScaler\n",
    "\n",
    "mnist = fetch_openml(\"mnist_784\", parser=\"auto\", version=\"1\")\n",
    "\n",
    "data: Type[pd.DataFrame] = mnist[\"data\"]\n",
    "labels: Type[pd.DataFrame] = mnist[\"target\"]\n",
    "\n",
    "scaler = MinMaxScaler().fit(data)\n",
    "scaled_X = np.array(scaler.transform(data))\n",
    "\n",
    "y: Type[np.ndarray] = labels.to_numpy()"
   ]
  },
  {
   "cell_type": "markdown",
   "metadata": {},
   "source": [
    "## Preprocessing\n"
   ]
  },
  {
   "cell_type": "markdown",
   "metadata": {},
   "source": [
    "### Split data into training, validation and testing sets.\n"
   ]
  },
  {
   "cell_type": "code",
   "execution_count": 2,
   "metadata": {},
   "outputs": [
    {
     "name": "stdout",
     "output_type": "stream",
     "text": [
      "                    X size\ty size\n",
      "training size:      50000\t50000\n",
      "validation size:    10000\t10000\n",
      "test size:          10000\t10000\n"
     ]
    }
   ],
   "source": [
    "X_train, X_test, y_train, y_test = train_test_split(scaled_X, y, random_state=42, test_size=1/7)\n",
    "X_train, X_validation, y_train, y_validation = train_test_split(X_train, y_train, random_state=42, test_size=1/6)\n",
    "\n",
    "print(\"\".ljust(20) + \"X size\\ty size\")\n",
    "print(\"training size:\".ljust(20) + \"{0}\\t{1}\".format(len(X_train), len(y_train)))\n",
    "print(\"validation size:\".ljust(20) + \"{0}\\t{1}\".format(len(X_validation), len(y_validation)))\n",
    "print(\"test size:\".ljust(20) + \"{0}\\t{1}\".format(len(X_test), len(y_test)))"
   ]
  },
  {
   "cell_type": "markdown",
   "metadata": {},
   "source": [
    "## Soft voting\n"
   ]
  },
  {
   "cell_type": "markdown",
   "metadata": {},
   "source": [
    "### Training"
   ]
  },
  {
   "cell_type": "code",
   "execution_count": 3,
   "metadata": {},
   "outputs": [],
   "source": [
    "# from sklearn.svm import SVC\n",
    "# from sklearn.ensemble import RandomForestClassifier\n",
    "# from sklearn.neighbors import  KNeighborsClassifier\n",
    "# from sklearn.ensemble import VotingClassifier\n",
    "# from sklearn.ensemble import ExtraTreesClassifier\n",
    "\n",
    "# estimators = [\n",
    "#   ('svc', SVC(probability=True)),\n",
    "#   ('rf_clf', RandomForestClassifier(random_state=42)),\n",
    "#   ('knn_clf', KNeighborsClassifier()),\n",
    "#   ('extra_tree_clf', ExtraTreesClassifier(random_state=42))\n",
    "# ]\n",
    "\n",
    "# voting_clf = VotingClassifier(estimators=estimators, voting='soft')\n",
    "# voting_clf.fit(X_train, y_train)\n",
    "\n",
    "# joblib.dump(voting_clf, \"model/voting_clf.pkl\")"
   ]
  },
  {
   "cell_type": "code",
   "execution_count": 4,
   "metadata": {},
   "outputs": [],
   "source": [
    "# svc = SVC(probability=True)\n",
    "# rf_clf = RandomForestClassifier(random_state=42)\n",
    "# knn_clf = KNeighborsClassifier()\n",
    "# extra_tree_clf = ExtraTreesClassifier(random_state=42)\n",
    "\n",
    "# svc.fit(X_train, y_train)\n",
    "# rf_clf.fit(X_train, y_train)\n",
    "# knn_clf.fit(X_train, y_train)\n",
    "# extra_tree_clf.fit(X_train, y_train)\n",
    "\n",
    "\n",
    "# joblib.dump(svc, \"model/svc.pkl\", compress=3)\n",
    "# joblib.dump(rf_clf, \"model/random_forest.pkl\", compress=3)\n",
    "# joblib.dump(knn_clf, \"model/knn.pkl\", compress=3)\n",
    "# joblib.dump(extra_tree_clf, \"model/extra_tree.pkl\", compress=3)"
   ]
  },
  {
   "cell_type": "markdown",
   "metadata": {},
   "source": [
    "### Compare ensemble with individual classifier\n"
   ]
  },
  {
   "cell_type": "markdown",
   "metadata": {},
   "source": [
    "#### Prepare estimators\n"
   ]
  },
  {
   "cell_type": "code",
   "execution_count": 5,
   "metadata": {},
   "outputs": [],
   "source": [
    "from sklearn.svm import SVC\n",
    "from sklearn.ensemble import RandomForestClassifier\n",
    "from sklearn.neighbors import  KNeighborsClassifier\n",
    "from sklearn.ensemble import VotingClassifier\n",
    "from sklearn.ensemble import ExtraTreesClassifier\n",
    "\n",
    "voting_clf: Type[VotingClassifier] = joblib.load(\"model/voting_clf.pkl\")\n",
    "svc: Type[SVC] = joblib.load('model/svc.pkl')\n",
    "rf_clf: Type[RandomForestClassifier] = joblib.load('model/random_forest.pkl')\n",
    "knn_clf: Type[KNeighborsClassifier] = joblib.load('model/knn.pkl')\n",
    "extra_tree_clf: Type[ExtraTreesClassifier] = joblib.load('model/extra_tree.pkl')"
   ]
  },
  {
   "cell_type": "markdown",
   "metadata": {},
   "source": [
    "#### Score comparison on validation set\n"
   ]
  },
  {
   "cell_type": "code",
   "execution_count": 6,
   "metadata": {},
   "outputs": [],
   "source": [
    "voting_clf_validation_score = voting_clf.score(X_validation, y_validation)\n",
    "svc_validation_score = svc.score(X_validation, y_validation)\n",
    "rf_clf_validation_score = rf_clf.score(X_validation, y_validation)\n",
    "knn_clf_validation_score = knn_clf.score(X_validation, y_validation)\n",
    "extra_tree_clf_validation_score = extra_tree_clf.score(X_validation, y_validation)"
   ]
  },
  {
   "cell_type": "code",
   "execution_count": 7,
   "metadata": {},
   "outputs": [
    {
     "name": "stdout",
     "output_type": "stream",
     "text": [
      "Soft voting ensemble score:             0.9809\n",
      "SVC score:                              0.9788\n",
      "RandomForest score:                     0.9692\n",
      "KNN score:                              0.9702\n",
      "ExtraTree score:                        0.9715\n"
     ]
    }
   ],
   "source": [
    "print(\"Soft voting ensemble score:\".ljust(40) + \"{0}\".format(voting_clf_validation_score))\n",
    "print(\"SVC score:\".ljust(40) + \"{0}\".format(svc_validation_score))\n",
    "print(\"RandomForest score:\".ljust(40) + \"{0}\".format(rf_clf_validation_score))\n",
    "print(\"KNN score:\".ljust(40) + \"{0}\".format(knn_clf_validation_score))\n",
    "print(\"ExtraTree score:\".ljust(40) + \"{0}\".format(extra_tree_clf_validation_score))"
   ]
  },
  {
   "cell_type": "markdown",
   "metadata": {},
   "source": [
    "### Score comparison on test set\n"
   ]
  },
  {
   "cell_type": "code",
   "execution_count": 8,
   "metadata": {},
   "outputs": [],
   "source": [
    "voting_clf_test_score = voting_clf.score(X_test, y_test)\n",
    "svc_test_score = svc.score(X_test, y_test)\n",
    "rf_clf_test_score = rf_clf.score(X_test, y_test)\n",
    "knn_clf_test_score = knn_clf.score(X_test, y_test)\n",
    "extra_tree_clf_test_score = extra_tree_clf.score(X_test, y_test)"
   ]
  },
  {
   "cell_type": "code",
   "execution_count": 9,
   "metadata": {},
   "outputs": [
    {
     "name": "stdout",
     "output_type": "stream",
     "text": [
      "Soft voting ensemble score:             0.977\n",
      "SVC score:                              0.976\n",
      "RandomForest score:                     0.9644\n",
      "KNN score:                              0.9672\n",
      "ExtraTree score:                        0.9691\n"
     ]
    }
   ],
   "source": [
    "print(\"Soft voting ensemble score:\".ljust(40) + \"{0}\".format(voting_clf_test_score))\n",
    "print(\"SVC score:\".ljust(40) + \"{0}\".format(svc_test_score))\n",
    "print(\"RandomForest score:\".ljust(40) + \"{0}\".format(rf_clf_test_score))\n",
    "print(\"KNN score:\".ljust(40) + \"{0}\".format(knn_clf_test_score))\n",
    "print(\"ExtraTree score:\".ljust(40) + \"{0}\".format(extra_tree_clf_test_score))"
   ]
  },
  {
   "cell_type": "markdown",
   "metadata": {},
   "source": [
    "## Try to improve ensemble learning performance\n"
   ]
  },
  {
   "cell_type": "markdown",
   "metadata": {},
   "source": [
    "### Bagging\n"
   ]
  },
  {
   "cell_type": "markdown",
   "metadata": {},
   "source": [
    "### Boosting\n"
   ]
  },
  {
   "cell_type": "markdown",
   "metadata": {},
   "source": [
    "### Stacking\n"
   ]
  }
 ],
 "metadata": {
  "kernelspec": {
   "display_name": "base",
   "language": "python",
   "name": "python3"
  },
  "language_info": {
   "codemirror_mode": {
    "name": "ipython",
    "version": 3
   },
   "file_extension": ".py",
   "mimetype": "text/x-python",
   "name": "python",
   "nbconvert_exporter": "python",
   "pygments_lexer": "ipython3",
   "version": "3.10.13"
  }
 },
 "nbformat": 4,
 "nbformat_minor": 2
}
